{
 "cells": [
  {
   "cell_type": "code",
   "execution_count": 3,
   "metadata": {},
   "outputs": [
    {
     "name": "stdout",
     "output_type": "stream",
     "text": [
      "[\n",
      "  {\n",
      "    \"Model\": \"lr\",\n",
      "    \"Setosa\": \"0.0%\",\n",
      "    \"Versicolor\": \"40.22%\",\n",
      "    \"Virginica\": \"59.78%\"\n",
      "  },\n",
      "  {\n",
      "    \"Model\": \"svm\",\n",
      "    \"Setosa\": \"1.81%\",\n",
      "    \"Versicolor\": \"26.48%\",\n",
      "    \"Virginica\": \"71.71%\"\n",
      "  },\n",
      "  {\n",
      "    \"Model\": \"dt\",\n",
      "    \"Setosa\": \"100.0%\",\n",
      "    \"Versicolor\": \"0.0%\",\n",
      "    \"Virginica\": \"0.0%\"\n",
      "  },\n",
      "  {\n",
      "    \"Model\": \"knn\",\n",
      "    \"Setosa\": \"100.0%\",\n",
      "    \"Versicolor\": \"0.0%\",\n",
      "    \"Virginica\": \"0.0%\"\n",
      "  }\n",
      "]\n"
     ]
    }
   ],
   "source": [
    "#peticion sin indicar qué modelo / tb sirve indicando all en el campo model\n",
    "!curl --request POST \"http://127.0.0.1:8000/predict\" \\\n",
    "    --header \"Content-Type: application/json\" \\\n",
    "    --data-raw \"{\\\"X\\\": 1.0,\\\"Y\\\": 0.5}\"  "
   ]
  },
  {
   "cell_type": "code",
   "execution_count": 4,
   "metadata": {},
   "outputs": [
    {
     "name": "stdout",
     "output_type": "stream",
     "text": [
      "{\n",
      "  \"Model\": \"lr\",\n",
      "  \"Setosa\": \"0.0%\",\n",
      "  \"Versicolor\": \"40.22%\",\n",
      "  \"Virginica\": \"59.78%\"\n",
      "}\n"
     ]
    }
   ],
   "source": [
    "#petición hacia modelo lr\n",
    "!curl --request POST \"http://127.0.0.1:8000/predict\" \\\n",
    "    --header \"Content-Type: application/json\" \\\n",
    "    --data-raw \"{\\\"model\\\": \\\"lr\\\",\\\"X\\\": 1.0,\\\"Y\\\": 0.5}\"  "
   ]
  },
  {
   "cell_type": "code",
   "execution_count": 5,
   "metadata": {},
   "outputs": [
    {
     "name": "stdout",
     "output_type": "stream",
     "text": [
      "{\n",
      "  \"Model\": \"svm\",\n",
      "  \"Setosa\": \"1.81%\",\n",
      "  \"Versicolor\": \"26.48%\",\n",
      "  \"Virginica\": \"71.71%\"\n",
      "}\n"
     ]
    }
   ],
   "source": [
    "#petición hacia modelo SVM\n",
    "!curl --request POST \"http://127.0.0.1:8000/predict\" \\\n",
    "    --header \"Content-Type: application/json\" \\\n",
    "    --data-raw \"{\\\"model\\\": \\\"svm\\\",\\\"X\\\": 1.0,\\\"Y\\\": 0.5}\"  "
   ]
  },
  {
   "cell_type": "code",
   "execution_count": 6,
   "metadata": {},
   "outputs": [
    {
     "name": "stdout",
     "output_type": "stream",
     "text": [
      "{\n",
      "  \"Model\": \"dt\",\n",
      "  \"Setosa\": \"100.0%\",\n",
      "  \"Versicolor\": \"0.0%\",\n",
      "  \"Virginica\": \"0.0%\"\n",
      "}\n"
     ]
    }
   ],
   "source": [
    "#petición hacia modelo dt\n",
    "!curl --request POST \"http://127.0.0.1:8000/predict\" \\\n",
    "    --header \"Content-Type: application/json\" \\\n",
    "    --data-raw \"{\\\"model\\\": \\\"dt\\\",\\\"X\\\": 1.0,\\\"Y\\\": 0.5}\" "
   ]
  },
  {
   "cell_type": "code",
   "execution_count": 7,
   "metadata": {},
   "outputs": [
    {
     "name": "stdout",
     "output_type": "stream",
     "text": [
      "{\n",
      "  \"Model\": \"knn\",\n",
      "  \"Setosa\": \"100.0%\",\n",
      "  \"Versicolor\": \"0.0%\",\n",
      "  \"Virginica\": \"0.0%\"\n",
      "}\n"
     ]
    }
   ],
   "source": [
    "#petición hacia modelo knn\n",
    "!curl --request POST \"http://127.0.0.1:8000/predict\" \\\n",
    "    --header \"Content-Type: application/json\" \\\n",
    "    --data-raw \"{\\\"model\\\": \\\"knn\\\",\\\"X\\\": 1.0,\\\"Y\\\": 0.5}\" "
   ]
  },
  {
   "cell_type": "code",
   "execution_count": 8,
   "metadata": {},
   "outputs": [
    {
     "name": "stdout",
     "output_type": "stream",
     "text": [
      "\"Error indicando el modelo\"\n"
     ]
    }
   ],
   "source": [
    "#petición hacia modelo erróneo\n",
    "!curl --request POST \"http://127.0.0.1:8000/predict\" \\\n",
    "    --header \"Content-Type: application/json\" \\\n",
    "    --data-raw \"{\\\"model\\\": \\\"lerele_model\\\",\\\"X\\\": 1.0,\\\"Y\\\": 0.5}\" "
   ]
  }
 ],
 "metadata": {
  "kernelspec": {
   "display_name": "5073-tasca03-fCVSUgp1-py3.12",
   "language": "python",
   "name": "python3"
  },
  "language_info": {
   "codemirror_mode": {
    "name": "ipython",
    "version": 3
   },
   "file_extension": ".py",
   "mimetype": "text/x-python",
   "name": "python",
   "nbconvert_exporter": "python",
   "pygments_lexer": "ipython3",
   "version": "3.12.1"
  }
 },
 "nbformat": 4,
 "nbformat_minor": 2
}
